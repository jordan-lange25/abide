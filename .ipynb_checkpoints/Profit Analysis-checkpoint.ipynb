{
 "cells": [
  {
   "cell_type": "code",
   "execution_count": 94,
   "metadata": {},
   "outputs": [],
   "source": [
    "#Small business consulting project: \n",
    "    #profitability analysis\n",
    "    #customer analysis\n",
    "    #product analysis\n",
    "    #shipping/order size analysis\n",
    "    #Guaranteed 10% measurable profit gain or money back!\n",
    "#script that parses P&L to transactions\n",
    "\n",
    "\n",
    "import pandas as pd\n",
    "\n",
    "transactiondata=pd.read_csv('transaction.csv',delimiter='\\t')\n",
    "trans_df=pd.DataFrame(transactiondata)\n",
    "pldata=pd.read_csv('pl.csv',delimiter='\\t')\n",
    "pl_df=pd.DataFrame(pldata)\n",
    "\n",
    "\n",
    "\n",
    "\n"
   ]
  },
  {
   "cell_type": "code",
   "execution_count": 95,
   "metadata": {},
   "outputs": [],
   "source": [
    "#temp v1 function that splits aggregated cost (P&L) into column on transaction\n",
    "def splitter(transdf,pldf,AC): \n",
    "    \n",
    "    totallist=[]\n",
    "    valuelist=[]\n",
    "    totalrev=transdf['Revenue'].sum()\n",
    "#     account=input(\"What line of the P&L would you like to allocate?\").upper()\n",
    "#     logic=input(\"How would you like to allocate it?\").upper()\n",
    "    for i in transdf[\"Revenue\"]:\n",
    "        valuelist.append(pldf[pldf['Account']==str(AC)][\"Amount\"].values[0]*(i/totalrev))\n",
    "        totallist.append(pldf[pldf['Account']==str(AC)][\"Amount\"].values[0])\n",
    "    transdf[str(AC)+\"AC\"]=valuelist\n",
    "    return transdf\n"
   ]
  },
  {
   "cell_type": "code",
   "execution_count": null,
   "metadata": {},
   "outputs": [],
   "source": [
    "#temp v2\n",
    "def splitter(transdf,pldf,AC): \n",
    "    \n",
    "    totallist=[]\n",
    "    valuelist=[]\n",
    "    totalrev=transdf['Revenue'].sum()\n",
    "#     account=input(\"What line of the P&L would you like to allocate?\").upper()\n",
    "#     logic=input(\"How would you like to allocate it?\").upper()\n",
    "    for i in transdf[\"Revenue\"]:\n",
    "        valuelist.append(pldf[pldf['Account']==str(AC)][\"Amount\"].values[0]*(i/totalrev))\n",
    "        totallist.append(pldf[pldf['Account']==str(AC)][\"Amount\"].values[0])\n",
    "    transdf[str(AC)+\"AC\"]=valuelist\n",
    "    return transdf\n",
    "\n"
   ]
  },
  {
   "cell_type": "code",
   "execution_count": null,
   "metadata": {},
   "outputs": [],
   "source": [
    "#Assignment\n",
    "splitter(trans_df,pl_df)\n",
    "trans_df"
   ]
  },
  {
   "cell_type": "code",
   "execution_count": 99,
   "metadata": {},
   "outputs": [],
   "source": [
    "#Get list of all accounts to assign\n",
    "accountslist=[]\n",
    "for i in pl_df['Account']: \n",
    "    if i not in (\"Revenue\",\"COGS\",\"GrossMargin\",\"Profit\"): \n",
    "        accountslist.append(i)\n",
    "    else: \n",
    "        continue"
   ]
  },
  {
   "cell_type": "code",
   "execution_count": 100,
   "metadata": {},
   "outputs": [
    {
     "data": {
      "text/plain": [
       "['Distribution', 'SellingRelated', 'G&A']"
      ]
     },
     "execution_count": 100,
     "metadata": {},
     "output_type": "execute_result"
    }
   ],
   "source": [
    "accountslist"
   ]
  },
  {
   "cell_type": "code",
   "execution_count": null,
   "metadata": {},
   "outputs": [],
   "source": []
  }
 ],
 "metadata": {
  "kernelspec": {
   "display_name": "Python 3",
   "language": "python",
   "name": "python3"
  },
  "language_info": {
   "codemirror_mode": {
    "name": "ipython",
    "version": 3
   },
   "file_extension": ".py",
   "mimetype": "text/x-python",
   "name": "python",
   "nbconvert_exporter": "python",
   "pygments_lexer": "ipython3",
   "version": "3.6.4"
  }
 },
 "nbformat": 4,
 "nbformat_minor": 2
}
